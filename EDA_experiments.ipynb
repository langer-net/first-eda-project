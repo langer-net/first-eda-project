{
 "cells": [
  {
   "cell_type": "code",
   "execution_count": null,
   "metadata": {},
   "outputs": [],
   "source": [
    "# # Create new column for year\n",
    "# weather_df['year'] = weather_df.date.dt.year\n",
    "\n",
    "# #Create new column for month\n",
    "# weather_df['month'] = weather_df.date.dt.month\n",
    "\n",
    "# # Create new column for year-month\n",
    "# weather_df['year_month'] = weather_df['date'].dt.strftime('%Y-%m')"
   ]
  },
  {
   "cell_type": "code",
   "execution_count": null,
   "metadata": {},
   "outputs": [],
   "source": [
    "import plotly.graph_objects as go\n",
    "fig = go.Figure(go.Densitymapbox(lat=df.lat, lon=df.long, z=df.sqft_lot15,\n",
    "                                 radius=5))\n",
    "fig.update_layout(mapbox_style=\"stamen-terrain\", mapbox_center_lon=34.62)\n",
    "fig.update_layout(margin={\"r\":0,\"t\":0,\"l\":0,\"b\":0})\n",
    "fig.show()"
   ]
  },
  {
   "cell_type": "code",
   "execution_count": null,
   "metadata": {},
   "outputs": [],
   "source": [
    " # create a map of area, where houses from data set located\n",
    "fig = px.scatter_mapbox(df, #our data set\n",
    "                        lat=\"lat\", lon=\"long\", #location\n",
    "                        color=\"sqft_living\", #select a column for ranking\n",
    "                        hover_name=\"sqft_living\", \n",
    "                        hover_data=[\"sqft_living15\", \"sqft_lot15\"], \n",
    "                        size_max=15, \n",
    "                        zoom=8, \n",
    "                        width=900, height=600, #map size\n",
    "                        title =  'King County map colored after interior living space')\n",
    "#style of map\n",
    "fig.update_layout(mapbox_style=\"open-street-map\")\n",
    "fig.show(config={'scrollZoom': False})"
   ]
  }
 ],
 "metadata": {
  "language_info": {
   "name": "python"
  },
  "orig_nbformat": 4
 },
 "nbformat": 4,
 "nbformat_minor": 2
}
